{
 "cells": [
  {
   "cell_type": "code",
   "execution_count": 4,
   "id": "040e88df-11b4-4918-a124-c159623f6962",
   "metadata": {},
   "outputs": [
    {
     "name": "stdout",
     "output_type": "stream",
     "text": [
      "['Anaconda', 786, 2.23, 'Jupyter', 70.2]\n",
      "Anaconda\n",
      "[786, 2.23]\n",
      "[2.23, 'Jupyter', 70.2]\n"
     ]
    },
    {
     "ename": "NameError",
     "evalue": "name 'shortlist' is not defined",
     "output_type": "error",
     "traceback": [
      "\u001b[1;31m---------------------------------------------------------------------------\u001b[0m",
      "\u001b[1;31mNameError\u001b[0m                                 Traceback (most recent call last)",
      "Cell \u001b[1;32mIn[4], line 8\u001b[0m\n\u001b[0;32m      6\u001b[0m \u001b[38;5;28mprint\u001b[39m(\u001b[38;5;28mlist\u001b[39m[\u001b[38;5;241m1\u001b[39m:\u001b[38;5;241m3\u001b[39m])       \u001b[38;5;66;03m# Prints elements starting from 2nd till 3rd\u001b[39;00m\n\u001b[0;32m      7\u001b[0m \u001b[38;5;28mprint\u001b[39m(\u001b[38;5;28mlist\u001b[39m[\u001b[38;5;241m2\u001b[39m:])        \u001b[38;5;66;03m# Prints elements starting from 3rd element\u001b[39;00m\n\u001b[1;32m----> 8\u001b[0m \u001b[38;5;28mprint\u001b[39m(shortlist \u001b[38;5;241m*\u001b[39m \u001b[38;5;241m2\u001b[39m)    \u001b[38;5;66;03m# Prints list two times\u001b[39;00m\n\u001b[0;32m      9\u001b[0m \u001b[38;5;28mprint\u001b[39m(\u001b[38;5;28mlist\u001b[39m \u001b[38;5;241m+\u001b[39m shortlist)\n",
      "\u001b[1;31mNameError\u001b[0m: name 'shortlist' is not defined"
     ]
    }
   ],
   "source": [
    "list = [ 'Anaconda', 786 , 2.23, 'Jupyter', 70.2 ]\n",
    "sshortlist = [321, 'Python' ]\n",
    "\n",
    "print(list)           #Prints complete list\n",
    "print(list[0])         # Prints first element of the list\n",
    "print(list[1:3])       # Prints elements starting from 2nd till 3rd\n",
    "print(list[2:])        # Prints elements starting from 3rd element\n",
    "print(shortlist * 2)    # Prints list two times\n",
    "print(list + shortlist) # Prints concatenated lists"
   ]
  },
  {
   "cell_type": "code",
   "execution_count": null,
   "id": "28ec3945-9b62-45d5-ba78-8f0ce5f94dda",
   "metadata": {},
   "outputs": [],
   "source": []
  }
 ],
 "metadata": {
  "kernelspec": {
   "display_name": "Python 3 (ipykernel)",
   "language": "python",
   "name": "python3"
  },
  "language_info": {
   "codemirror_mode": {
    "name": "ipython",
    "version": 3
   },
   "file_extension": ".py",
   "mimetype": "text/x-python",
   "name": "python",
   "nbconvert_exporter": "python",
   "pygments_lexer": "ipython3",
   "version": "3.11.7"
  }
 },
 "nbformat": 4,
 "nbformat_minor": 5
}
