{
 "cells": [
  {
   "cell_type": "code",
   "execution_count": 11,
   "id": "9a8a4c58-2879-4094-b62a-60a0b2e3c482",
   "metadata": {},
   "outputs": [
    {
     "name": "stdin",
     "output_type": "stream",
     "text": [
      "Enter the amount:  30\n",
      "Enter the number of years:  10\n",
      "Enter the rate of interest:  2\n"
     ]
    },
    {
     "name": "stdout",
     "output_type": "stream",
     "text": [
      "The simple interset is: 6.0\n"
     ]
    }
   ],
   "source": [
    "# Simple interest in python\n",
    "\n",
    "Amount = float(input(\"Enter the amount: \"))\n",
    "# Enter the number of years\n",
    "Year = float(input(\"Enter the number of years: \"))\n",
    "# Enter the rate of interest\n",
    "Rate = float(input(\"Enter the rate of interest: \"))\n",
    "\n",
    "SimpleInterset = (Amount*Year*Rate)/100\n",
    "\n",
    "print(\"The simple interset is:\", SimpleInterset)\n"
   ]
  },
  {
   "cell_type": "code",
   "execution_count": 23,
   "id": "9cdd5ba5-3731-4b0f-bd61-489d1a5f2c14",
   "metadata": {},
   "outputs": [
    {
     "name": "stdin",
     "output_type": "stream",
     "text": [
      "Enter amount:  20\n",
      "Enter Number:  10\n",
      "Enter Rate:  20\n"
     ]
    },
    {
     "name": "stdout",
     "output_type": "stream",
     "text": [
      "CompoundInterest is: 24.0\n"
     ]
    }
   ],
   "source": [
    "#compound interest in python\n",
    "\n",
    "Amount = float(input(\"Enter amount: \"))\n",
    "\n",
    "Number = float(input(\"Enter Number: \"))\n",
    "\n",
    "Rate = float(input(\"Enter Rate: \"))\n",
    "\n",
    "CompoundInterest = ((Amount*(1+Number)*Rate/100) - Amount)\n",
    "\n",
    "print(\"CompoundInterest is:\", CompoundInterest)"
   ]
  },
  {
   "cell_type": "code",
   "execution_count": null,
   "id": "1e093241-98ef-4ab9-8b23-1ec835991a15",
   "metadata": {},
   "outputs": [],
   "source": []
  }
 ],
 "metadata": {
  "kernelspec": {
   "display_name": "Python 3 (ipykernel)",
   "language": "python",
   "name": "python3"
  },
  "language_info": {
   "codemirror_mode": {
    "name": "ipython",
    "version": 3
   },
   "file_extension": ".py",
   "mimetype": "text/x-python",
   "name": "python",
   "nbconvert_exporter": "python",
   "pygments_lexer": "ipython3",
   "version": "3.11.7"
  }
 },
 "nbformat": 4,
 "nbformat_minor": 5
}
