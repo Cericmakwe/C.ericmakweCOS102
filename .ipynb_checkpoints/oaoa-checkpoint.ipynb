#include <stdio.h>
#include <stdlib.h>

int main()

{
    int randomnumber;
    randomnumber = rand() % 10;
    printf("%d\n", randomnumber);
    return 0;
}